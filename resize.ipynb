{
 "cells": [
  {
   "cell_type": "code",
   "execution_count": 1,
   "id": "62543447",
   "metadata": {},
   "outputs": [],
   "source": [
    "import cv2"
   ]
  },
  {
   "cell_type": "code",
   "execution_count": 3,
   "id": "b0d70552",
   "metadata": {},
   "outputs": [],
   "source": [
    "img=cv2.imread(\"nature.jpeg\")"
   ]
  },
  {
   "cell_type": "code",
   "execution_count": 4,
   "id": "1c054efb",
   "metadata": {},
   "outputs": [
    {
     "name": "stdout",
     "output_type": "stream",
     "text": [
      "(1500, 1000, 3)\n"
     ]
    }
   ],
   "source": [
    "print(img.shape)"
   ]
  },
  {
   "cell_type": "code",
   "execution_count": 5,
   "id": "3c4406d3",
   "metadata": {},
   "outputs": [],
   "source": [
    "img_re=cv2.resize(img,None,fx=0.2,fy=0.2,interpolation = cv2.INTER_LINEAR)"
   ]
  },
  {
   "cell_type": "code",
   "execution_count": 9,
   "id": "6f9e6181",
   "metadata": {},
   "outputs": [
    {
     "name": "stdout",
     "output_type": "stream",
     "text": [
      "(300, 200, 3)\n"
     ]
    }
   ],
   "source": [
    "print(img_re.shape)\n",
    "cv2.imshow(\"image\",img_re)\n",
    "cv2.waitKey(0)\n",
    "cv2.destroyAllWindows()"
   ]
  },
  {
   "cell_type": "code",
   "execution_count": 10,
   "id": "7807057e",
   "metadata": {},
   "outputs": [],
   "source": [
    "img_re1=cv2.resize(img,(500,500))\n"
   ]
  },
  {
   "cell_type": "code",
   "execution_count": 11,
   "id": "a76221be",
   "metadata": {},
   "outputs": [],
   "source": [
    "cv2.imshow(\"image\",img_re1)\n",
    "cv2.waitKey(0)\n",
    "cv2.destroyAllWindows()"
   ]
  },
  {
   "cell_type": "code",
   "execution_count": 25,
   "id": "5349a584",
   "metadata": {},
   "outputs": [],
   "source": [
    "img_re2=cv2.resize(img,(100,100))\n"
   ]
  },
  {
   "cell_type": "code",
   "execution_count": 26,
   "id": "1e22991e",
   "metadata": {},
   "outputs": [],
   "source": [
    "cv2.imshow(\"image\",img_re2)\n",
    "cv2.waitKey(0)\n",
    "cv2.destroyAllWindows()"
   ]
  },
  {
   "cell_type": "code",
   "execution_count": null,
   "id": "2752fd2b",
   "metadata": {},
   "outputs": [],
   "source": []
  }
 ],
 "metadata": {
  "kernelspec": {
   "display_name": "Python 3 (ipykernel)",
   "language": "python",
   "name": "python3"
  },
  "language_info": {
   "codemirror_mode": {
    "name": "ipython",
    "version": 3
   },
   "file_extension": ".py",
   "mimetype": "text/x-python",
   "name": "python",
   "nbconvert_exporter": "python",
   "pygments_lexer": "ipython3",
   "version": "3.9.13"
  }
 },
 "nbformat": 4,
 "nbformat_minor": 5
}
