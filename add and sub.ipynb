{
 "cells": [
  {
   "cell_type": "code",
   "execution_count": 1,
   "id": "40210f70",
   "metadata": {},
   "outputs": [],
   "source": [
    "import cv2"
   ]
  },
  {
   "cell_type": "code",
   "execution_count": 8,
   "id": "a1d96e9f",
   "metadata": {},
   "outputs": [],
   "source": [
    "img1=cv2.imread(\"circle.png\")\n",
    "img2=cv2.imread(\"red.png\")\n",
    "img3=cv2.imread(\"img3.png\")\n",
    "img4=cv2.imread(\"img4.png\")"
   ]
  },
  {
   "cell_type": "markdown",
   "id": "ce13c76e",
   "metadata": {},
   "source": [
    "addition"
   ]
  },
  {
   "cell_type": "code",
   "execution_count": 6,
   "id": "5887ab89",
   "metadata": {},
   "outputs": [],
   "source": [
    "imAdd=cv2.addWeighted(img1,0.5,img2,0.5,1)\n"
   ]
  },
  {
   "cell_type": "code",
   "execution_count": 16,
   "id": "4ff69200",
   "metadata": {},
   "outputs": [],
   "source": [
    "cv2.imshow(\"circle\",img1)\n",
    "cv2.waitKey(0)\n",
    "cv2.imshow(\"red\",img2)\n",
    "cv2.waitKey(0)\n",
    "cv2.imshow(\"combination\",imAdd)\n",
    "cv2.waitKey(0)\n",
    "cv2.destroyAllWindows()"
   ]
  },
  {
   "cell_type": "markdown",
   "id": "961ad291",
   "metadata": {},
   "source": [
    "logical operation"
   ]
  },
  {
   "cell_type": "code",
   "execution_count": 22,
   "id": "53b498db",
   "metadata": {},
   "outputs": [],
   "source": [
    "imAnd=cv2.bitwise_xor(img3,img4,mask=None)"
   ]
  },
  {
   "cell_type": "code",
   "execution_count": 21,
   "id": "e02b45ea",
   "metadata": {},
   "outputs": [],
   "source": [
    "cv2.imshow(\"img3\",img3)\n",
    "cv2.waitKey(0)\n",
    "cv2.imshow(\"img4\",img4)\n",
    "cv2.waitKey(0)\n",
    "cv2.imshow(\"img and\",imAnd)\n",
    "cv2.waitKey(0)\n",
    "cv2.destroyAllWindows()"
   ]
  },
  {
   "cell_type": "code",
   "execution_count": 23,
   "id": "9d4a82ab",
   "metadata": {},
   "outputs": [],
   "source": [
    "imAnd=cv2.bitwise_or(img3,img4,mask=None)"
   ]
  },
  {
   "cell_type": "code",
   "execution_count": 24,
   "id": "a409779f",
   "metadata": {},
   "outputs": [],
   "source": [
    "cv2.imshow(\"img3\",img3)\n",
    "cv2.waitKey(0)\n",
    "cv2.imshow(\"img4\",img4)\n",
    "cv2.waitKey(0)\n",
    "cv2.imshow(\"img and\",imAnd)\n",
    "cv2.waitKey(0)\n",
    "cv2.destroyAllWindows()"
   ]
  },
  {
   "cell_type": "markdown",
   "id": "b3a9661e",
   "metadata": {},
   "source": [
    "subtract"
   ]
  },
  {
   "cell_type": "code",
   "execution_count": 18,
   "id": "41bac032",
   "metadata": {},
   "outputs": [],
   "source": [
    "imsub=cv2.subtract(img1,img2)"
   ]
  },
  {
   "cell_type": "code",
   "execution_count": 19,
   "id": "629f1e08",
   "metadata": {},
   "outputs": [],
   "source": [
    "cv2.imshow(\"circle\",img1)\n",
    "cv2.waitKey(0)\n",
    "cv2.imshow(\"red\",img2)\n",
    "cv2.waitKey(0)\n",
    "cv2.imshow(\"subtract\",imsub)\n",
    "cv2.waitKey(0)\n",
    "cv2.destroyAllWindows()"
   ]
  },
  {
   "cell_type": "code",
   "execution_count": null,
   "id": "a0ced27f",
   "metadata": {},
   "outputs": [],
   "source": []
  },
  {
   "cell_type": "code",
   "execution_count": null,
   "id": "a5b600ec",
   "metadata": {},
   "outputs": [],
   "source": []
  }
 ],
 "metadata": {
  "kernelspec": {
   "display_name": "Python 3 (ipykernel)",
   "language": "python",
   "name": "python3"
  },
  "language_info": {
   "codemirror_mode": {
    "name": "ipython",
    "version": 3
   },
   "file_extension": ".py",
   "mimetype": "text/x-python",
   "name": "python",
   "nbconvert_exporter": "python",
   "pygments_lexer": "ipython3",
   "version": "3.9.13"
  }
 },
 "nbformat": 4,
 "nbformat_minor": 5
}
