{
 "cells": [
  {
   "cell_type": "code",
   "execution_count": 13,
   "id": "00335f6c",
   "metadata": {},
   "outputs": [],
   "source": [
    "import cv2\n",
    "import numpy as np"
   ]
  },
  {
   "cell_type": "code",
   "execution_count": 14,
   "id": "97bdfeae",
   "metadata": {},
   "outputs": [],
   "source": [
    "img=cv2.imread(\"nature.jpeg\")"
   ]
  },
  {
   "cell_type": "code",
   "execution_count": 35,
   "id": "a578b926",
   "metadata": {},
   "outputs": [],
   "source": [
    "img_re=cv2.resize(img,(500,500))"
   ]
  },
  {
   "cell_type": "code",
   "execution_count": 4,
   "id": "5ecb57f6",
   "metadata": {},
   "outputs": [],
   "source": [
    "ker=np.ones((3,3),float)/9\n",
    " "
   ]
  },
  {
   "cell_type": "code",
   "execution_count": 5,
   "id": "6a2930cc",
   "metadata": {},
   "outputs": [
    {
     "name": "stdout",
     "output_type": "stream",
     "text": [
      "[[0.11111111 0.11111111 0.11111111]\n",
      " [0.11111111 0.11111111 0.11111111]\n",
      " [0.11111111 0.11111111 0.11111111]]\n"
     ]
    }
   ],
   "source": [
    "print(ker)"
   ]
  },
  {
   "cell_type": "code",
   "execution_count": 6,
   "id": "d64540b1",
   "metadata": {},
   "outputs": [],
   "source": [
    "tdf=cv2.filter2D(img_re,-1,ker)\n"
   ]
  },
  {
   "cell_type": "code",
   "execution_count": 7,
   "id": "7f38750d",
   "metadata": {},
   "outputs": [],
   "source": [
    "cv2.imshow(\"image\",img_re)\n",
    "cv2.waitKey(0)\n",
    "cv2.imshow(\"2d\",tdf)\n",
    "cv2.waitKey(0)\n",
    "cv2.destroyAllWindows()"
   ]
  },
  {
   "cell_type": "markdown",
   "id": "5ae151c1",
   "metadata": {},
   "source": [
    "average blur"
   ]
  },
  {
   "cell_type": "code",
   "execution_count": 8,
   "id": "6b061512",
   "metadata": {},
   "outputs": [],
   "source": [
    "avg=cv2.blur(img_re,(25,25))"
   ]
  },
  {
   "cell_type": "code",
   "execution_count": 10,
   "id": "cba8b667",
   "metadata": {},
   "outputs": [],
   "source": [
    "cv2.imshow(\"image\",img_re)\n",
    "cv2.waitKey(0)\n",
    "cv2.imshow(\"abg blur\",avg)\n",
    "cv2.waitKey(0)\n",
    "cv2.destroyAllWindows()"
   ]
  },
  {
   "cell_type": "markdown",
   "id": "ad7ce512",
   "metadata": {},
   "source": [
    "image bluring - median filter"
   ]
  },
  {
   "cell_type": "code",
   "execution_count": 75,
   "id": "dd647fd7",
   "metadata": {},
   "outputs": [],
   "source": [
    "noi=cv2.imread(\"noisec.png\")"
   ]
  },
  {
   "cell_type": "code",
   "execution_count": 76,
   "id": "b707a858",
   "metadata": {},
   "outputs": [],
   "source": [
    "med=cv2.medianBlur(noi,3)\n"
   ]
  },
  {
   "cell_type": "code",
   "execution_count": 68,
   "id": "9e88fbd4",
   "metadata": {},
   "outputs": [],
   "source": [
    "cv2.imshow(\"before\",noi)\n",
    "cv2.waitKey(0)\n",
    "cv2.imshow(\"after\",med)\n",
    "cv2.waitKey(0)\n",
    "cv2.destroyAllWindows()"
   ]
  },
  {
   "cell_type": "code",
   "execution_count": 87,
   "id": "29ef13cd",
   "metadata": {},
   "outputs": [],
   "source": [
    "bi=cv2.bilateralFilter(noi,15,30,30)"
   ]
  },
  {
   "cell_type": "code",
   "execution_count": 88,
   "id": "44dbc619",
   "metadata": {},
   "outputs": [],
   "source": [
    "cv2.imshow(\"before\",noi)\n",
    "cv2.waitKey(0)\n",
    "cv2.imshow(\"after\",bi)\n",
    "cv2.waitKey(0)\n",
    "cv2.destroyAllWindows()"
   ]
  },
  {
   "cell_type": "code",
   "execution_count": null,
   "id": "e433c8ac",
   "metadata": {},
   "outputs": [],
   "source": []
  }
 ],
 "metadata": {
  "kernelspec": {
   "display_name": "Python 3 (ipykernel)",
   "language": "python",
   "name": "python3"
  },
  "language_info": {
   "codemirror_mode": {
    "name": "ipython",
    "version": 3
   },
   "file_extension": ".py",
   "mimetype": "text/x-python",
   "name": "python",
   "nbconvert_exporter": "python",
   "pygments_lexer": "ipython3",
   "version": "3.9.13"
  }
 },
 "nbformat": 4,
 "nbformat_minor": 5
}
