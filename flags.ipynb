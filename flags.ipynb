{
 "cells": [
  {
   "cell_type": "code",
   "execution_count": 14,
   "id": "052d79ab",
   "metadata": {},
   "outputs": [],
   "source": [
    "import cv2"
   ]
  },
  {
   "cell_type": "code",
   "execution_count": 2,
   "id": "f8c119aa",
   "metadata": {},
   "outputs": [],
   "source": [
    "import numpy as np"
   ]
  },
  {
   "cell_type": "code",
   "execution_count": 4,
   "id": "3eedb4a6",
   "metadata": {},
   "outputs": [],
   "source": [
    "im1=cv2.imread(\"red.png\")"
   ]
  },
  {
   "cell_type": "code",
   "execution_count": 5,
   "id": "a889e542",
   "metadata": {},
   "outputs": [
    {
     "name": "stdout",
     "output_type": "stream",
     "text": [
      "(733, 734, 3)\n"
     ]
    }
   ],
   "source": [
    "sp=im1.shape\n",
    "print(sp)"
   ]
  },
  {
   "cell_type": "code",
   "execution_count": 6,
   "id": "6145f6f7",
   "metadata": {},
   "outputs": [],
   "source": [
    "cv2.imshow(\"img\",im1)\n",
    "cv2.waitKey(0)\n",
    "cv2.destroyAllWindows()"
   ]
  },
  {
   "cell_type": "code",
   "execution_count": 7,
   "id": "87ec72a5",
   "metadata": {},
   "outputs": [],
   "source": [
    "hi=im1[0:10,0:29]"
   ]
  },
  {
   "cell_type": "code",
   "execution_count": 8,
   "id": "f49ee0f3",
   "metadata": {},
   "outputs": [],
   "source": [
    "cv2.imshow(\"hi\",hi)\n",
    "cv2.waitKey(0)\n",
    "cv2.destroyAllWindows()"
   ]
  },
  {
   "cell_type": "code",
   "execution_count": 10,
   "id": "8cecb939",
   "metadata": {},
   "outputs": [
    {
     "data": {
      "text/plain": [
       "True"
      ]
     },
     "execution_count": 10,
     "metadata": {},
     "output_type": "execute_result"
    }
   ],
   "source": [
    "cv2.imwrite(\"re.png\",hi)"
   ]
  },
  {
   "cell_type": "markdown",
   "id": "cd104806",
   "metadata": {},
   "source": [
    "# available flags"
   ]
  },
  {
   "cell_type": "code",
   "execution_count": 17,
   "id": "6900876b",
   "metadata": {},
   "outputs": [],
   "source": [
    "import cv2"
   ]
  },
  {
   "cell_type": "code",
   "execution_count": 18,
   "id": "03357ba2",
   "metadata": {},
   "outputs": [],
   "source": [
    "flags=[i for i in dir(cv2) if i.startswith('COLOUR_')]"
   ]
  },
  {
   "cell_type": "code",
   "execution_count": 19,
   "id": "f5a5e62a",
   "metadata": {},
   "outputs": [
    {
     "name": "stdout",
     "output_type": "stream",
     "text": [
      "[]\n"
     ]
    }
   ],
   "source": [
    "print(flags)"
   ]
  },
  {
   "cell_type": "code",
   "execution_count": null,
   "id": "5d6ac7b6",
   "metadata": {},
   "outputs": [],
   "source": []
  },
  {
   "cell_type": "code",
   "execution_count": null,
   "id": "957cbb4d",
   "metadata": {},
   "outputs": [],
   "source": []
  }
 ],
 "metadata": {
  "kernelspec": {
   "display_name": "Python 3 (ipykernel)",
   "language": "python",
   "name": "python3"
  },
  "language_info": {
   "codemirror_mode": {
    "name": "ipython",
    "version": 3
   },
   "file_extension": ".py",
   "mimetype": "text/x-python",
   "name": "python",
   "nbconvert_exporter": "python",
   "pygments_lexer": "ipython3",
   "version": "3.9.13"
  }
 },
 "nbformat": 4,
 "nbformat_minor": 5
}
