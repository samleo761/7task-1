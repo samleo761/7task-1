{
 "cells": [
  {
   "cell_type": "code",
   "execution_count": 1,
   "id": "91599edc",
   "metadata": {},
   "outputs": [],
   "source": [
    "import cv2\n"
   ]
  },
  {
   "cell_type": "code",
   "execution_count": 2,
   "id": "2f0e33a1",
   "metadata": {},
   "outputs": [],
   "source": [
    "img=cv2.imread(\"ai.jpg\")\n",
    "img1=cv2.resize(img,(500,500))"
   ]
  },
  {
   "cell_type": "code",
   "execution_count": 3,
   "id": "5a2b3af1",
   "metadata": {},
   "outputs": [],
   "source": [
    "cv2.imshow(\"after\",img1)\n",
    "cv2.waitKey(0)\n",
    "cv2.destroyAllWindows()"
   ]
  },
  {
   "cell_type": "code",
   "execution_count": 4,
   "id": "279278f3",
   "metadata": {},
   "outputs": [],
   "source": [
    "img_g=cv2.cvtColor(img1,cv2.COLOR_BGR2GRAY)"
   ]
  },
  {
   "cell_type": "code",
   "execution_count": 5,
   "id": "6dba43a2",
   "metadata": {},
   "outputs": [],
   "source": [
    "ret,th1=cv2.threshold(img_g,70,255,cv2.THRESH_BINARY)\n",
    "ath1=cv2.adaptiveThreshold(img_g,255,cv2.ADAPTIVE_THRESH_MEAN_C,cv2.THRESH_BINARY,11,2)\n",
    "ath2=cv2.adaptiveThreshold(img_g,255,cv2.ADAPTIVE_THRESH_GAUSSIAN_C,cv2.THRESH_BINARY,11,2)"
   ]
  },
  {
   "cell_type": "code",
   "execution_count": 6,
   "id": "cab50f78",
   "metadata": {},
   "outputs": [],
   "source": [
    "cv2.imshow(\"orginal\",img_g)\n",
    "cv2.imshow(\"global\",th1)\n",
    "cv2.imshow(\"mean\",ath1)\n",
    "cv2.imshow(\"gaussian\",ath2)\n",
    "cv2.waitKey(0)\n",
    "cv2.destroyAllWindows()\n"
   ]
  },
  {
   "cell_type": "code",
   "execution_count": 7,
   "id": "de2f71e7",
   "metadata": {},
   "outputs": [
    {
     "data": {
      "text/plain": [
       "True"
      ]
     },
     "execution_count": 7,
     "metadata": {},
     "output_type": "execute_result"
    }
   ],
   "source": [
    "cv2.imwrite(\"global.jpg\",th1)\n",
    "cv2.imwrite(\"mean.jpg\",ath1)\n",
    "cv2.imwrite(\"gaussian.jpg\",ath2)"
   ]
  },
  {
   "cell_type": "code",
   "execution_count": null,
   "id": "735a724a",
   "metadata": {},
   "outputs": [],
   "source": []
  }
 ],
 "metadata": {
  "kernelspec": {
   "display_name": "Python 3 (ipykernel)",
   "language": "python",
   "name": "python3"
  },
  "language_info": {
   "codemirror_mode": {
    "name": "ipython",
    "version": 3
   },
   "file_extension": ".py",
   "mimetype": "text/x-python",
   "name": "python",
   "nbconvert_exporter": "python",
   "pygments_lexer": "ipython3",
   "version": "3.9.13"
  }
 },
 "nbformat": 4,
 "nbformat_minor": 5
}
