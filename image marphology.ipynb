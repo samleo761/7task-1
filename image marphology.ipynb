{
 "cells": [
  {
   "cell_type": "code",
   "execution_count": 1,
   "id": "38e11a9c",
   "metadata": {},
   "outputs": [],
   "source": [
    "import cv2\n",
    "import numpy as np"
   ]
  },
  {
   "cell_type": "code",
   "execution_count": 2,
   "id": "7abc7344",
   "metadata": {},
   "outputs": [],
   "source": [
    "img=cv2.imread(\"cow.jpeg\",0)\n",
    "imgre=cv2.resize(img,(500,500))"
   ]
  },
  {
   "cell_type": "markdown",
   "id": "c4f7afb6",
   "metadata": {},
   "source": [
    "structure element or kernal"
   ]
  },
  {
   "cell_type": "code",
   "execution_count": 3,
   "id": "47909fbf",
   "metadata": {},
   "outputs": [],
   "source": [
    "kernal=np.ones((3,3),np.uint8)"
   ]
  },
  {
   "cell_type": "markdown",
   "id": "dbd537b2",
   "metadata": {},
   "source": [
    "erosion"
   ]
  },
  {
   "cell_type": "code",
   "execution_count": 4,
   "id": "ccb5ef1c",
   "metadata": {},
   "outputs": [],
   "source": [
    "er=cv2.erode(img,kernal,iterations=7)\n",
    "ero=cv2.resize(er,(500,500))"
   ]
  },
  {
   "cell_type": "code",
   "execution_count": 5,
   "id": "490df9ce",
   "metadata": {},
   "outputs": [],
   "source": [
    "cv2.imshow(\"image\",imgre)\n",
    "cv2.imshow(\"erosion\",ero)\n",
    "cv2.waitKey(0)\n",
    "cv2.destroyAllWindows()"
   ]
  },
  {
   "cell_type": "markdown",
   "id": "9a608ab2",
   "metadata": {},
   "source": [
    "dilation"
   ]
  },
  {
   "cell_type": "code",
   "execution_count": 15,
   "id": "cfa590d6",
   "metadata": {},
   "outputs": [],
   "source": [
    "dilation=cv2.dilate(img,kernal,iterations=5)\n",
    "dil=cv2.resize(dilation,(500,500))"
   ]
  },
  {
   "cell_type": "code",
   "execution_count": 16,
   "id": "21733031",
   "metadata": {},
   "outputs": [],
   "source": [
    "cv2.imshow(\"image\",imgre)\n",
    "cv2.imshow(\"dilation\",dil)\n",
    "cv2.waitKey(0)\n",
    "cv2.destroyAllWindows()"
   ]
  },
  {
   "cell_type": "code",
   "execution_count": null,
   "id": "cca3152e",
   "metadata": {},
   "outputs": [],
   "source": []
  }
 ],
 "metadata": {
  "kernelspec": {
   "display_name": "Python 3 (ipykernel)",
   "language": "python",
   "name": "python3"
  },
  "language_info": {
   "codemirror_mode": {
    "name": "ipython",
    "version": 3
   },
   "file_extension": ".py",
   "mimetype": "text/x-python",
   "name": "python",
   "nbconvert_exporter": "python",
   "pygments_lexer": "ipython3",
   "version": "3.9.13"
  }
 },
 "nbformat": 4,
 "nbformat_minor": 5
}
