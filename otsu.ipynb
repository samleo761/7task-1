{
 "cells": [
  {
   "cell_type": "code",
   "execution_count": 1,
   "id": "2d444b3a",
   "metadata": {},
   "outputs": [],
   "source": [
    "import cv2\n",
    "import numpy as np\n"
   ]
  },
  {
   "cell_type": "code",
   "execution_count": 2,
   "id": "9053d4bd",
   "metadata": {},
   "outputs": [],
   "source": [
    "img=cv2.imread(\"ai.jpg\",0)\n",
    "img1=cv2.resize(img,(400,400))"
   ]
  },
  {
   "cell_type": "code",
   "execution_count": 3,
   "id": "e11ac7d8",
   "metadata": {},
   "outputs": [],
   "source": [
    "cv2.imshow(\"resize\",img1)\n",
    "cv2.waitKey(0)\n",
    "cv2.destroyAllWindows()"
   ]
  },
  {
   "cell_type": "code",
   "execution_count": 27,
   "id": "f7bee3fd",
   "metadata": {},
   "outputs": [],
   "source": [
    "ce,otsu=cv2.threshold(img1,0,255,cv2.THRESH_BINARY+cv2.THRESH_OTSU)"
   ]
  },
  {
   "cell_type": "code",
   "execution_count": 28,
   "id": "33227d21",
   "metadata": {},
   "outputs": [],
   "source": [
    "cv2.imshow(\"otsu img\",otsu)\n",
    "cv2.waitKey(0)\n",
    "cv2.destroyAllWindows()"
   ]
  },
  {
   "cell_type": "code",
   "execution_count": 30,
   "id": "c88baadb",
   "metadata": {},
   "outputs": [
    {
     "data": {
      "text/plain": [
       "True"
      ]
     },
     "execution_count": 30,
     "metadata": {},
     "output_type": "execute_result"
    }
   ],
   "source": [
    "cv2.imwrite(\"otsu img.jpg\",otsu)"
   ]
  }
 ],
 "metadata": {
  "kernelspec": {
   "display_name": "Python 3 (ipykernel)",
   "language": "python",
   "name": "python3"
  },
  "language_info": {
   "codemirror_mode": {
    "name": "ipython",
    "version": 3
   },
   "file_extension": ".py",
   "mimetype": "text/x-python",
   "name": "python",
   "nbconvert_exporter": "python",
   "pygments_lexer": "ipython3",
   "version": "3.9.13"
  }
 },
 "nbformat": 4,
 "nbformat_minor": 5
}
